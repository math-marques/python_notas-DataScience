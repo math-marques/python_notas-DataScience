{
  "nbformat": 4,
  "nbformat_minor": 0,
  "metadata": {
    "colab": {
      "provenance": []
    },
    "kernelspec": {
      "name": "python3",
      "display_name": "Python 3"
    },
    "language_info": {
      "name": "python"
    }
  },
  "cells": [
    {
      "cell_type": "code",
      "execution_count": 43,
      "metadata": {
        "id": "NjrJJ8lTI7Lz"
      },
      "outputs": [],
      "source": [
        "materias = [\"Matemática\", \"Português\", \"Ciências\", \"História\"]\n",
        "notas_alunos = [\n",
        "[8.5, 9.0, 7.2, 6.0], # Aluno 1\n",
        "[5.0, 6.5, 8.0, 7.5], # Aluno 2\n",
        "[9.8, 9.2, 9.5, 8.8], # Aluno 3\n",
        "[4.0, 5.5, 6.2, 7.0], # Aluno 4\n",
        "[7.5, 8.2, 7.8, 8.5] # Aluno 5\n",
        "]"
      ]
    },
    {
      "cell_type": "markdown",
      "source": [
        "1. Importe a biblioteca NumPy com o apelido padrão np.\n"
      ],
      "metadata": {
        "id": "aFWdgQHMJOAP"
      }
    },
    {
      "cell_type": "code",
      "source": [
        "import numpy as np"
      ],
      "metadata": {
        "id": "fmCxf04cJRou"
      },
      "execution_count": 44,
      "outputs": []
    },
    {
      "cell_type": "markdown",
      "source": [
        "2. Converta a lista notas_alunos em um array NumPy chamado notas_array.\n"
      ],
      "metadata": {
        "id": "i6WPPkjKJV8n"
      }
    },
    {
      "cell_type": "code",
      "source": [
        "notas_array = np.array(notas_alunos)"
      ],
      "metadata": {
        "id": "VYnGUw_3JT_2"
      },
      "execution_count": 45,
      "outputs": []
    },
    {
      "cell_type": "markdown",
      "source": [
        "Inspecione o array: Imprima o array na tela e utilize o atributo .shape para confirmar se\n",
        "a estrutura está correta (5 linhas e 4 colunas).\n"
      ],
      "metadata": {
        "id": "a-PtrtLrJrml"
      }
    },
    {
      "cell_type": "code",
      "source": [
        "np.set_printoptions(precision=1, floatmode=\"fixed\")\n",
        "for i, notas in enumerate(notas_alunos, start=1):\n",
        "    print(f\"Aluno {i}:\")\n",
        "    for materia, nota in zip(materias, notas):\n",
        "        print(f\"  {materia}: {nota:.1f}\")\n",
        "    print()"
      ],
      "metadata": {
        "colab": {
          "base_uri": "https://localhost:8080/"
        },
        "id": "oy4Xqzs3JoP3",
        "outputId": "3a6d9aa9-0479-48e0-ec69-b6bf4467322c"
      },
      "execution_count": 46,
      "outputs": [
        {
          "output_type": "stream",
          "name": "stdout",
          "text": [
            "Aluno 1:\n",
            "  Matemática: 8.5\n",
            "  Português: 9.0\n",
            "  Ciências: 7.2\n",
            "  História: 6.0\n",
            "\n",
            "Aluno 2:\n",
            "  Matemática: 5.0\n",
            "  Português: 6.5\n",
            "  Ciências: 8.0\n",
            "  História: 7.5\n",
            "\n",
            "Aluno 3:\n",
            "  Matemática: 9.8\n",
            "  Português: 9.2\n",
            "  Ciências: 9.5\n",
            "  História: 8.8\n",
            "\n",
            "Aluno 4:\n",
            "  Matemática: 4.0\n",
            "  Português: 5.5\n",
            "  Ciências: 6.2\n",
            "  História: 7.0\n",
            "\n",
            "Aluno 5:\n",
            "  Matemática: 7.5\n",
            "  Português: 8.2\n",
            "  Ciências: 7.8\n",
            "  História: 8.5\n",
            "\n"
          ]
        }
      ]
    },
    {
      "cell_type": "markdown",
      "source": [
        "Crie um novo array chamado notas_atualizadas. Este array deve ser o resultado da\n",
        "soma de 0.5 a cada elemento do notas_array.\n"
      ],
      "metadata": {
        "id": "XNJQ7HvcKKxr"
      }
    },
    {
      "cell_type": "code",
      "source": [
        "notas_array_atualizadas = notas_array + 0.5"
      ],
      "metadata": {
        "id": "cfta-nBgJ56f"
      },
      "execution_count": 36,
      "outputs": []
    },
    {
      "cell_type": "markdown",
      "source": [
        " Imprima o novo array notas_atualizadas para visualizar as notas com o bônus"
      ],
      "metadata": {
        "id": "J8Qp7BuaKSEL"
      }
    },
    {
      "cell_type": "code",
      "source": [
        "for i, notas in enumerate(notas_array_atualizadas, start=1):\n",
        "    print(f\"Aluno {i}:\")\n",
        "    for materia, nota in zip(materias, notas):\n",
        "        print(f\"  {materia}: {nota:.1f}\")\n",
        "    print()"
      ],
      "metadata": {
        "colab": {
          "base_uri": "https://localhost:8080/"
        },
        "id": "5FCpvU2bKQy_",
        "outputId": "fea10e74-4163-4e91-96cb-89e10f3d3ade"
      },
      "execution_count": 47,
      "outputs": [
        {
          "output_type": "stream",
          "name": "stdout",
          "text": [
            "Aluno 1:\n",
            "  Matemática: 9.0\n",
            "  Português: 9.5\n",
            "  Ciências: 7.7\n",
            "  História: 6.5\n",
            "\n",
            "Aluno 2:\n",
            "  Matemática: 5.5\n",
            "  Português: 7.0\n",
            "  Ciências: 8.5\n",
            "  História: 8.0\n",
            "\n",
            "Aluno 3:\n",
            "  Matemática: 10.3\n",
            "  Português: 9.7\n",
            "  Ciências: 10.0\n",
            "  História: 9.3\n",
            "\n",
            "Aluno 4:\n",
            "  Matemática: 4.5\n",
            "  Português: 6.0\n",
            "  Ciências: 6.7\n",
            "  História: 7.5\n",
            "\n",
            "Aluno 5:\n",
            "  Matemática: 8.0\n",
            "  Português: 8.7\n",
            "  Ciências: 8.3\n",
            "  História: 9.0\n",
            "\n"
          ]
        }
      ]
    },
    {
      "cell_type": "code",
      "source": [
        "aprovados = notas_array_atualizadas >= 7.0\n",
        "for i, notas in enumerate(aprovados, start=1):\n",
        "    print(f\"Aluno {i}:\")\n",
        "    for materia, nota in zip(materias, notas):\n",
        "        print(f\"  {materia}: {nota}\")\n",
        "    print()"
      ],
      "metadata": {
        "colab": {
          "base_uri": "https://localhost:8080/"
        },
        "id": "2ZeeLZQQKdBv",
        "outputId": "de24cfca-2d95-4f4a-f07a-e64df86b3fcc"
      },
      "execution_count": 49,
      "outputs": [
        {
          "output_type": "stream",
          "name": "stdout",
          "text": [
            "Aluno 1:\n",
            "  Matemática: True\n",
            "  Português: True\n",
            "  Ciências: True\n",
            "  História: False\n",
            "\n",
            "Aluno 2:\n",
            "  Matemática: False\n",
            "  Português: True\n",
            "  Ciências: True\n",
            "  História: True\n",
            "\n",
            "Aluno 3:\n",
            "  Matemática: True\n",
            "  Português: True\n",
            "  Ciências: True\n",
            "  História: True\n",
            "\n",
            "Aluno 4:\n",
            "  Matemática: False\n",
            "  Português: False\n",
            "  Ciências: False\n",
            "  História: True\n",
            "\n",
            "Aluno 5:\n",
            "  Matemática: True\n",
            "  Português: True\n",
            "  Ciências: True\n",
            "  História: True\n",
            "\n",
            "[[ True  True  True False]\n",
            " [False  True  True  True]\n",
            " [ True  True  True  True]\n",
            " [False False False  True]\n",
            " [ True  True  True  True]]\n"
          ]
        }
      ]
    },
    {
      "cell_type": "code",
      "source": [
        "aprovados_Quantidade = np.sum(aprovados)\n",
        "print(f\"Quantidade de alunos aprovados: {aprovados_Quantidade}\")"
      ],
      "metadata": {
        "colab": {
          "base_uri": "https://localhost:8080/"
        },
        "id": "XNSlkB98LO7n",
        "outputId": "2f71ee85-9808-440c-a578-89127141149b"
      },
      "execution_count": 50,
      "outputs": [
        {
          "output_type": "stream",
          "name": "stdout",
          "text": [
            "Quantidade de alunos aprovados: 15\n"
          ]
        }
      ]
    },
    {
      "cell_type": "markdown",
      "source": [
        ". Calcule a média de cada disciplina (cada coluna do array notas_atualizadas). Utilize a\n",
        "função .mean() com o parâmetro axis=0.\n"
      ],
      "metadata": {
        "id": "zVDpGlI9LzHV"
      }
    },
    {
      "cell_type": "code",
      "source": [
        "notas_medias = np.mean(notas_array_atualizadas, axis=0)\n",
        "\n",
        "for materia, nota in zip(materias, notas_medias):\n",
        "    print(f\"{materia}: {nota:.2f}\")\n",
        "maior_media = np.max(notas_medias)\n",
        "print(f\"Maior media: {maior_media:.2f}\")\n",
        "menor_media = np.min(notas_medias)\n",
        "print(f\"Menor media: {menor_media:.2f}\")"
      ],
      "metadata": {
        "colab": {
          "base_uri": "https://localhost:8080/"
        },
        "id": "rVPJfu5ULc8u",
        "outputId": "b4721c98-1ce7-4f7b-e9bd-bdada39dd664"
      },
      "execution_count": 56,
      "outputs": [
        {
          "output_type": "stream",
          "name": "stdout",
          "text": [
            "Matemática: 7.46\n",
            "Português: 8.18\n",
            "Ciências: 8.24\n",
            "História: 8.06\n",
            "Maior media: 8.24\n",
            "Menor media: 7.46\n"
          ]
        }
      ]
    },
    {
      "cell_type": "markdown",
      "source": [
        "Calcule a média final de cada aluno (cada linha do array notas_atualizadas). Utilize a\n",
        "função .mean() com o parâmetro axis=1."
      ],
      "metadata": {
        "id": "ok5NyY3oMkly"
      }
    },
    {
      "cell_type": "code",
      "source": [
        "media_final = np.mean(notas_array_atualizadas, axis=1)\n",
        "for i, nota in enumerate(media_final, start=1):\n",
        "    print(f\"Aluno {i}: {nota:.2f}\")\n",
        "\n",
        "maior_media_final = np.max(media_final)\n",
        "print(f\"Maior media: {maior_media_final:.2f}\")\n",
        "menor_media_final = np.min(media_final)\n",
        "print(f\"Menor media: {menor_media_final:.2f}\")"
      ],
      "metadata": {
        "colab": {
          "base_uri": "https://localhost:8080/"
        },
        "id": "lYaHMNEGL4wQ",
        "outputId": "808e0a9e-6bed-4377-e933-f2285fa5e030"
      },
      "execution_count": 57,
      "outputs": [
        {
          "output_type": "stream",
          "name": "stdout",
          "text": [
            "Aluno 1: 8.18\n",
            "Aluno 2: 7.25\n",
            "Aluno 3: 9.82\n",
            "Aluno 4: 6.17\n",
            "Aluno 5: 8.50\n",
            "Maior media: 9.82\n",
            "Menor media: 6.17\n"
          ]
        }
      ]
    }
  ]
}
